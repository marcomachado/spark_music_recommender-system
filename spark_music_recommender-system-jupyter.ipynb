{
 "cells": [
  {
   "cell_type": "code",
   "execution_count": 1,
   "id": "d3c719a8",
   "metadata": {
    "_cell_guid": "12f074de-fadf-459b-8965-6c2d252c4ccc",
    "_uuid": "6edfc4be-307f-4d99-9391-850e0219cc86",
    "collapsed": false,
    "execution": {
     "iopub.execute_input": "2024-12-22T17:16:08.572952Z",
     "iopub.status.busy": "2024-12-22T17:16:08.572700Z",
     "iopub.status.idle": "2024-12-22T17:16:09.244966Z",
     "shell.execute_reply": "2024-12-22T17:16:09.243891Z"
    },
    "jupyter": {
     "outputs_hidden": false
    },
    "papermill": {
     "duration": 0.677023,
     "end_time": "2024-12-22T17:16:09.246510",
     "exception": false,
     "start_time": "2024-12-22T17:16:08.569487",
     "status": "completed"
    },
    "tags": []
   },
   "outputs": [
    {
     "name": "stdout",
     "output_type": "stream",
     "text": [
      "/kaggle/input/music-recommender/artist_data.txt\n",
      "/kaggle/input/music-recommender/README.txt\n",
      "/kaggle/input/music-recommender/user_artist_data.txt\n",
      "/kaggle/input/music-recommender/artist_alias.txt\n"
     ]
    }
   ],
   "source": [
    "# This Python 3 environment comes with many helpful analytics libraries installed\n",
    "# It is defined by the kaggle/python Docker image: https://github.com/kaggle/docker-python\n",
    "# For example, here's several helpful packages to load\n",
    "\n",
    "import numpy as np # linear algebra\n",
    "import pandas as pd # data processing, CSV file I/O (e.g. pd.read_csv)\n",
    "\n",
    "# Input data files are available in the read-only \"../input/\" directory\n",
    "# For example, running this (by clicking run or pressing Shift+Enter) will list all files under the input directory\n",
    "\n",
    "import os\n",
    "for dirname, _, filenames in os.walk('/kaggle/input'):\n",
    "    for filename in filenames:\n",
    "        print(os.path.join(dirname, filename))\n",
    "\n",
    "# You can write up to 20GB to the current directory (/kaggle/working/) that gets preserved as output when you create a version using \"Save & Run All\" \n",
    "# You can also write temporary files to /kaggle/temp/, but they won't be saved outside of the current session"
   ]
  },
  {
   "cell_type": "code",
   "execution_count": 2,
   "id": "03328ccd",
   "metadata": {
    "_cell_guid": "86f15ae2-efcb-49d0-9941-786f27752e7d",
    "_uuid": "721528d6-75ef-4c40-bc66-fe48e4c8c240",
    "collapsed": false,
    "execution": {
     "iopub.execute_input": "2024-12-22T17:16:09.251747Z",
     "iopub.status.busy": "2024-12-22T17:16:09.251355Z",
     "iopub.status.idle": "2024-12-22T17:16:46.177615Z",
     "shell.execute_reply": "2024-12-22T17:16:46.176643Z"
    },
    "jupyter": {
     "outputs_hidden": false
    },
    "papermill": {
     "duration": 36.930325,
     "end_time": "2024-12-22T17:16:46.179255",
     "exception": false,
     "start_time": "2024-12-22T17:16:09.248930",
     "status": "completed"
    },
    "tags": []
   },
   "outputs": [
    {
     "name": "stdout",
     "output_type": "stream",
     "text": [
      "\u001b[2K     \u001b[90m━━━━━━━━━━━━━━━━━━━━━━━━━━━━━━━━━━━━━━━━\u001b[0m \u001b[32m317.3/317.3 MB\u001b[0m \u001b[31m5.3 MB/s\u001b[0m eta \u001b[36m0:00:00\u001b[0m\r\n",
      "\u001b[?25h  Preparing metadata (setup.py) ... \u001b[?25l\u001b[?25hdone\r\n",
      "  Building wheel for pyspark (setup.py) ... \u001b[?25l\u001b[?25hdone\r\n"
     ]
    }
   ],
   "source": [
    "#install Apache Spark\n",
    "!pip install pyspark --quiet"
   ]
  },
  {
   "cell_type": "code",
   "execution_count": 3,
   "id": "60e26529",
   "metadata": {
    "_cell_guid": "62708999-6891-4808-ac36-dd98cda52a73",
    "_uuid": "fdbf695d-38be-4a0b-b520-24bc24554786",
    "collapsed": false,
    "execution": {
     "iopub.execute_input": "2024-12-22T17:16:46.191838Z",
     "iopub.status.busy": "2024-12-22T17:16:46.191573Z",
     "iopub.status.idle": "2024-12-22T17:16:56.929772Z",
     "shell.execute_reply": "2024-12-22T17:16:56.924955Z"
    },
    "jupyter": {
     "outputs_hidden": false
    },
    "papermill": {
     "duration": 10.7464,
     "end_time": "2024-12-22T17:16:56.931648",
     "exception": false,
     "start_time": "2024-12-22T17:16:46.185248",
     "status": "completed"
    },
    "tags": []
   },
   "outputs": [
    {
     "name": "stdout",
     "output_type": "stream",
     "text": [
      "+-------------------+\n",
      "|              value|\n",
      "+-------------------+\n",
      "|       1000002 1 55|\n",
      "| 1000002 1000006 33|\n",
      "|  1000002 1000007 8|\n",
      "|1000002 1000009 144|\n",
      "|1000002 1000010 314|\n",
      "+-------------------+\n",
      "only showing top 5 rows\n",
      "\n",
      "+--------------------+\n",
      "|               value|\n",
      "+--------------------+\n",
      "|1134999\\t06Crazy ...|\n",
      "|6821360\\tPang Nak...|\n",
      "|10113088\\tTerfel,...|\n",
      "|10151459\\tThe Fla...|\n",
      "|6826647\\tBodensta...|\n",
      "+--------------------+\n",
      "only showing top 5 rows\n",
      "\n",
      "+-----------------+\n",
      "|            value|\n",
      "+-----------------+\n",
      "| 1092764\\t1000311|\n",
      "| 1095122\\t1000557|\n",
      "| 6708070\\t1007267|\n",
      "|10088054\\t1042317|\n",
      "| 1195917\\t1042317|\n",
      "+-----------------+\n",
      "only showing top 5 rows\n",
      "\n"
     ]
    }
   ],
   "source": [
    "from pyspark.sql import SparkSession\n",
    "from pyspark.sql.functions import split, min, max, col, broadcast, when\n",
    "from pyspark.sql.types import IntegerType, StringType\n",
    "from pyspark.ml.recommendation import ALS\n",
    "\n",
    "# Cria uma sessão Spark\n",
    "spark = SparkSession.builder \\\n",
    "    .appName(\"Music_Recommender_System\") \\\n",
    "    .master(\"local[*]\") \\\n",
    "    .config(\"spark.executor.memory\", \"70g\") \\\n",
    "    .config(\"spark.driver.memory\", \"50g\") \\\n",
    "    .config(\"spark.memory.offHeap.enabled\",True) \\\n",
    "    .config(\"spark.memory.offHeap.size\",\"16g\")\\\n",
    "    .getOrCreate()\n",
    "\n",
    "spark.sparkContext.setLogLevel('WARN')\n",
    "\n",
    "\n",
    "raw_user_artist_path = \"/kaggle/input/music-recommender/user_artist_data.txt\" \n",
    "raw_user_artist_data = spark.read.text(raw_user_artist_path)\n",
    "raw_user_artist_data.show(5)\n",
    "\n",
    "raw_artist_data = spark.read.text(\"/kaggle/input/music-recommender/artist_data.txt\")\n",
    "raw_artist_data.show(5)\n",
    "\n",
    "raw_artist_alias = spark.read.text(\"/kaggle/input/music-recommender/artist_alias.txt\")\n",
    "raw_artist_alias.show(5)"
   ]
  },
  {
   "cell_type": "code",
   "execution_count": 4,
   "id": "9e04022f",
   "metadata": {
    "_cell_guid": "88781fcf-be03-4123-a7c4-29f5efada186",
    "_uuid": "3e790cc2-9a2a-4064-977a-b787dd99f429",
    "collapsed": false,
    "execution": {
     "iopub.execute_input": "2024-12-22T17:16:56.956840Z",
     "iopub.status.busy": "2024-12-22T17:16:56.955642Z",
     "iopub.status.idle": "2024-12-22T17:17:10.624755Z",
     "shell.execute_reply": "2024-12-22T17:17:10.623511Z"
    },
    "jupyter": {
     "outputs_hidden": false
    },
    "papermill": {
     "duration": 13.683782,
     "end_time": "2024-12-22T17:17:10.626306",
     "exception": false,
     "start_time": "2024-12-22T17:16:56.942524",
     "status": "completed"
    },
    "tags": []
   },
   "outputs": [
    {
     "name": "stdout",
     "output_type": "stream",
     "text": [
      "+-------+-------+-----+\n",
      "|   user| artist|count|\n",
      "+-------+-------+-----+\n",
      "|1000002|      1|   55|\n",
      "|1000002|1000006|   33|\n",
      "|1000002|1000007|    8|\n",
      "|1000002|1000009|  144|\n",
      "|1000002|1000010|  314|\n",
      "+-------+-------+-----+\n",
      "only showing top 5 rows\n",
      "\n",
      "+---------+---------+-----------+-----------+\n",
      "|min(user)|max(user)|min(artist)|max(artist)|\n",
      "+---------+---------+-----------+-----------+\n",
      "|       90|  2443548|          1|   10794401|\n",
      "+---------+---------+-----------+-----------+\n",
      "\n",
      "+--------+--------------------+\n",
      "|      id|                name|\n",
      "+--------+--------------------+\n",
      "| 1134999|        06Crazy Life|\n",
      "| 6821360|        Pang Nakarin|\n",
      "|10113088|Terfel, Bartoli- ...|\n",
      "|10151459| The Flaming Sidebur|\n",
      "| 6826647|   Bodenstandig 3000|\n",
      "+--------+--------------------+\n",
      "only showing top 5 rows\n",
      "\n",
      "+--------+-------+\n",
      "|  artist|  alias|\n",
      "+--------+-------+\n",
      "| 1092764|1000311|\n",
      "| 1095122|1000557|\n",
      "| 6708070|1007267|\n",
      "|10088054|1042317|\n",
      "| 1195917|1042317|\n",
      "+--------+-------+\n",
      "only showing top 5 rows\n",
      "\n",
      "\n",
      " Same name, different ID\n",
      "+-------+--------------+\n",
      "|     id|          name|\n",
      "+-------+--------------+\n",
      "|1000311| Steve Winwood|\n",
      "|1092764|Winwood, Steve|\n",
      "+-------+--------------+\n",
      "\n"
     ]
    }
   ],
   "source": [
    "# Preparing the Data\n",
    "\n",
    "#split lines by space characters\n",
    "\n",
    "user_artist_df = raw_user_artist_data.withColumn('user', \n",
    "                                                 split(raw_user_artist_data['value'], ' ').\\\n",
    "                                                 getItem(0).cast(IntegerType()))\n",
    "\n",
    "user_artist_df = user_artist_df.withColumn('artist', \n",
    "                                           split(raw_user_artist_data['value'], ' ').\\\n",
    "                                            getItem(1).cast(IntegerType()))                                                 \n",
    "\n",
    "user_artist_df = user_artist_df.withColumn('count', \n",
    "                                           split(raw_user_artist_data['value'], ' ').\n",
    "                                           getItem(2).cast(IntegerType())).drop('value')                                            \n",
    "\n",
    "user_artist_df.show(5)\n",
    "user_artist_df.select([min(\"user\"), max(\"user\"), min(\"artist\"),max(\"artist\")]).show()\n",
    "\n",
    "artist_by_id = raw_artist_data.withColumn('id', split(col('value'), '\\s+', 2).\n",
    "                                          getItem(0).cast(IntegerType())) \n",
    "\n",
    "artist_by_id = artist_by_id.withColumn('name', split(col('value'), '\\s+', 2).\\\n",
    "                                       getItem(1).cast(StringType())).drop('value') \n",
    "artist_by_id.show(5)\n",
    "\n",
    "\n",
    "artist_alias = raw_artist_alias.withColumn('artist', split(col('value'), '\\s+').\\\n",
    "                                           getItem(0).cast(IntegerType())).\\\n",
    "                                withColumn('alias', split(col('value'), '\\s+').\\\n",
    "                                           getItem(1).cast(StringType())).\\\n",
    "                                drop('value')  \n",
    "artist_alias.show(5)\n",
    "\n",
    "print('\\n Same name, different ID')\n",
    "artist_by_id.filter(artist_by_id.id.isin(1092764, 1000311)).show()"
   ]
  },
  {
   "cell_type": "code",
   "execution_count": 5,
   "id": "fb323e8b",
   "metadata": {
    "_cell_guid": "5652af45-89bf-4d2e-a671-1dc730b3db8a",
    "_uuid": "6ebb50ac-e0b2-46fe-9210-9749714d0fed",
    "collapsed": false,
    "execution": {
     "iopub.execute_input": "2024-12-22T17:17:10.640175Z",
     "iopub.status.busy": "2024-12-22T17:17:10.639877Z",
     "iopub.status.idle": "2024-12-22T17:20:08.367195Z",
     "shell.execute_reply": "2024-12-22T17:20:08.366171Z"
    },
    "jupyter": {
     "outputs_hidden": false
    },
    "papermill": {
     "duration": 177.736419,
     "end_time": "2024-12-22T17:20:08.369037",
     "exception": false,
     "start_time": "2024-12-22T17:17:10.632618",
     "status": "completed"
    },
    "tags": []
   },
   "outputs": [
    {
     "name": "stdout",
     "output_type": "stream",
     "text": [
      "\n",
      " Building a First Model\n",
      "\n",
      "24296858\n",
      "+---+------------------------------------------------------------------------------------------------------------------------------+\n",
      "|id |features                                                                                                                      |\n",
      "+---+------------------------------------------------------------------------------------------------------------------------------+\n",
      "|90 |[0.16020624, 0.20717518, -0.17194684, 0.06038469, 0.062727705, 0.54658705, -0.40481892, 0.43657345, -0.10396775, -0.042728312]|\n",
      "+---+------------------------------------------------------------------------------------------------------------------------------+\n",
      "only showing top 1 row\n",
      "\n"
     ]
    }
   ],
   "source": [
    "# Building a First Model\n",
    "print(\"\\n Building a First Model\\n\")\n",
    "train_data = user_artist_df.join(broadcast(artist_alias), 'artist', how='left')\n",
    "# Get artist’s alias if it exists; otherwise, get original artist\n",
    "train_data = train_data.withColumn('artist', when(col('alias').isNull(), col('artist')).otherwise(col('alias')))\n",
    "train_data = train_data.withColumn('artist', col('artist').cast(IntegerType())).drop('alias')\n",
    "train_data.cache()\n",
    "print(train_data.count())\n",
    "\n",
    "\n",
    "model = ALS(rank=10, seed=0, maxIter=5, regParam=0.1, implicitPrefs=True, alpha=1.0, \n",
    "            userCol='user', itemCol='artist', ratingCol='count').\\\n",
    "        fit(train_data)\n",
    "\n",
    "model.userFactors.show(1, truncate = False)\n",
    "spark.stop()"
   ]
  }
 ],
 "metadata": {
  "kaggle": {
   "accelerator": "nvidiaTeslaT4",
   "dataSources": [
    {
     "datasetId": 6355214,
     "sourceId": 10271487,
     "sourceType": "datasetVersion"
    }
   ],
   "dockerImageVersionId": 30823,
   "isGpuEnabled": true,
   "isInternetEnabled": true,
   "language": "python",
   "sourceType": "notebook"
  },
  "kernelspec": {
   "display_name": "Python 3",
   "language": "python",
   "name": "python3"
  },
  "language_info": {
   "codemirror_mode": {
    "name": "ipython",
    "version": 3
   },
   "file_extension": ".py",
   "mimetype": "text/x-python",
   "name": "python",
   "nbconvert_exporter": "python",
   "pygments_lexer": "ipython3",
   "version": "3.10.12"
  },
  "papermill": {
   "default_parameters": {},
   "duration": 242.61223,
   "end_time": "2024-12-22T17:20:08.893534",
   "environment_variables": {},
   "exception": null,
   "input_path": "__notebook__.ipynb",
   "output_path": "__notebook__.ipynb",
   "parameters": {},
   "start_time": "2024-12-22T17:16:06.281304",
   "version": "2.6.0"
  }
 },
 "nbformat": 4,
 "nbformat_minor": 5
}
